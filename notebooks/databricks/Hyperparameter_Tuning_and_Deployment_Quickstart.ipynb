{
 "cells": [
  {
   "cell_type": "code",
   "execution_count": 0,
   "metadata": {
    "application/vnd.databricks.v1+cell": {
     "cellMetadata": {
      "byteLimit": 2048000,
      "rowLimit": 10000
     },
     "inputWidgets": {},
     "nuid": "efba825d-005d-4d0e-82a1-9977facfa2e2",
     "showTitle": false,
     "tableResultSettingsMap": {},
     "title": ""
    }
   },
   "outputs": [
    {
     "output_type": "stream",
     "name": "stdout",
     "output_type": "stream",
     "text": [
      "Requirement already satisfied: hyperopt in /local_disk0/.ephemeral_nfs/envs/pythonEnv-4e386f3c-0a8d-41b8-a881-1b6ceea7a1da/lib/python3.11/site-packages (0.2.7)\nRequirement already satisfied: tensorflow in /local_disk0/.ephemeral_nfs/envs/pythonEnv-4e386f3c-0a8d-41b8-a881-1b6ceea7a1da/lib/python3.11/site-packages (2.19.0)\nRequirement already satisfied: scikit-learn in /databricks/python3/lib/python3.11/site-packages (1.3.0)\nRequirement already satisfied: pandas in /databricks/python3/lib/python3.11/site-packages (1.5.3)\nRequirement already satisfied: numpy in /local_disk0/.ephemeral_nfs/envs/pythonEnv-4e386f3c-0a8d-41b8-a881-1b6ceea7a1da/lib/python3.11/site-packages (1.26.4)\nRequirement already satisfied: mlflow[extras] in /local_disk0/.ephemeral_nfs/envs/pythonEnv-4e386f3c-0a8d-41b8-a881-1b6ceea7a1da/lib/python3.11/site-packages (3.1.4)\nRequirement already satisfied: mlflow-skinny==3.1.4 in /local_disk0/.ephemeral_nfs/envs/pythonEnv-4e386f3c-0a8d-41b8-a881-1b6ceea7a1da/lib/python3.11/site-packages (from mlflow[extras]) (3.1.4)\nRequirement already satisfied: Flask<4 in /local_disk0/.ephemeral_nfs/envs/pythonEnv-4e386f3c-0a8d-41b8-a881-1b6ceea7a1da/lib/python3.11/site-packages (from mlflow[extras]) (3.1.1)\nRequirement already satisfied: alembic!=1.10.0,<2 in /local_disk0/.ephemeral_nfs/envs/pythonEnv-4e386f3c-0a8d-41b8-a881-1b6ceea7a1da/lib/python3.11/site-packages (from mlflow[extras]) (1.16.4)\nRequirement already satisfied: docker<8,>=4.0.0 in /local_disk0/.ephemeral_nfs/envs/pythonEnv-4e386f3c-0a8d-41b8-a881-1b6ceea7a1da/lib/python3.11/site-packages (from mlflow[extras]) (7.1.0)\nRequirement already satisfied: graphene<4 in /local_disk0/.ephemeral_nfs/envs/pythonEnv-4e386f3c-0a8d-41b8-a881-1b6ceea7a1da/lib/python3.11/site-packages (from mlflow[extras]) (3.4.3)\nRequirement already satisfied: gunicorn<24 in /local_disk0/.ephemeral_nfs/envs/pythonEnv-4e386f3c-0a8d-41b8-a881-1b6ceea7a1da/lib/python3.11/site-packages (from mlflow[extras]) (23.0.0)\nRequirement already satisfied: matplotlib<4 in /databricks/python3/lib/python3.11/site-packages (from mlflow[extras]) (3.7.2)\nRequirement already satisfied: pyarrow<21,>=4.0.0 in /databricks/python3/lib/python3.11/site-packages (from mlflow[extras]) (14.0.1)\nRequirement already satisfied: scipy<2 in /databricks/python3/lib/python3.11/site-packages (from mlflow[extras]) (1.11.1)\nRequirement already satisfied: sqlalchemy<3,>=1.4.0 in /local_disk0/.ephemeral_nfs/envs/pythonEnv-4e386f3c-0a8d-41b8-a881-1b6ceea7a1da/lib/python3.11/site-packages (from mlflow[extras]) (2.0.42)\nRequirement already satisfied: requests-auth-aws-sigv4 in /local_disk0/.ephemeral_nfs/envs/pythonEnv-4e386f3c-0a8d-41b8-a881-1b6ceea7a1da/lib/python3.11/site-packages (from mlflow[extras]) (0.7)\nRequirement already satisfied: boto3 in /databricks/python3/lib/python3.11/site-packages (from mlflow[extras]) (1.34.39)\nRequirement already satisfied: botocore in /databricks/python3/lib/python3.11/site-packages (from mlflow[extras]) (1.34.39)\nRequirement already satisfied: google-cloud-storage>=1.30.0 in /databricks/python3/lib/python3.11/site-packages (from mlflow[extras]) (2.18.2)\nRequirement already satisfied: azureml-core>=1.2.0 in /local_disk0/.ephemeral_nfs/envs/pythonEnv-4e386f3c-0a8d-41b8-a881-1b6ceea7a1da/lib/python3.11/site-packages (from mlflow[extras]) (1.60.0.post1)\nRequirement already satisfied: pysftp in /local_disk0/.ephemeral_nfs/envs/pythonEnv-4e386f3c-0a8d-41b8-a881-1b6ceea7a1da/lib/python3.11/site-packages (from mlflow[extras]) (0.2.9)\nRequirement already satisfied: kubernetes in /local_disk0/.ephemeral_nfs/envs/pythonEnv-4e386f3c-0a8d-41b8-a881-1b6ceea7a1da/lib/python3.11/site-packages (from mlflow[extras]) (33.1.0)\nRequirement already satisfied: virtualenv in /usr/local/lib/python3.11/dist-packages (from mlflow[extras]) (20.26.6)\nRequirement already satisfied: prometheus-flask-exporter in /local_disk0/.ephemeral_nfs/envs/pythonEnv-4e386f3c-0a8d-41b8-a881-1b6ceea7a1da/lib/python3.11/site-packages (from mlflow[extras]) (0.23.2)\nRequirement already satisfied: cachetools<7,>=5.0.0 in /databricks/python3/lib/python3.11/site-packages (from mlflow-skinny==3.1.4->mlflow[extras]) (5.5.0)\nRequirement already satisfied: click<9,>=7.0 in /local_disk0/.ephemeral_nfs/envs/pythonEnv-4e386f3c-0a8d-41b8-a881-1b6ceea7a1da/lib/python3.11/site-packages (from mlflow-skinny==3.1.4->mlflow[extras]) (8.2.1)\nRequirement already satisfied: cloudpickle<4 in /databricks/python3/lib/python3.11/site-packages (from mlflow-skinny==3.1.4->mlflow[extras]) (3.0.0)\nRequirement already satisfied: databricks-sdk<1,>=0.20.0 in /databricks/python3/lib/python3.11/site-packages (from mlflow-skinny==3.1.4->mlflow[extras]) (0.40.0)\nRequirement already satisfied: fastapi<1 in /local_disk0/.ephemeral_nfs/envs/pythonEnv-4e386f3c-0a8d-41b8-a881-1b6ceea7a1da/lib/python3.11/site-packages (from mlflow-skinny==3.1.4->mlflow[extras]) (0.116.1)\nRequirement already satisfied: gitpython<4,>=3.1.9 in /databricks/python3/lib/python3.11/site-packages (from mlflow-skinny==3.1.4->mlflow[extras]) (3.1.43)\nRequirement already satisfied: importlib_metadata!=4.7.0,<9,>=3.7.0 in /databricks/python3/lib/python3.11/site-packages (from mlflow-skinny==3.1.4->mlflow[extras]) (6.0.0)\nRequirement already satisfied: opentelemetry-api<3,>=1.9.0 in /local_disk0/.ephemeral_nfs/envs/pythonEnv-4e386f3c-0a8d-41b8-a881-1b6ceea7a1da/lib/python3.11/site-packages (from mlflow-skinny==3.1.4->mlflow[extras]) (1.36.0)\nRequirement already satisfied: opentelemetry-sdk<3,>=1.9.0 in /local_disk0/.ephemeral_nfs/envs/pythonEnv-4e386f3c-0a8d-41b8-a881-1b6ceea7a1da/lib/python3.11/site-packages (from mlflow-skinny==3.1.4->mlflow[extras]) (1.36.0)\nRequirement already satisfied: packaging<26 in /databricks/python3/lib/python3.11/site-packages (from mlflow-skinny==3.1.4->mlflow[extras]) (23.2)\nRequirement already satisfied: protobuf<7,>=3.12.0 in /local_disk0/.ephemeral_nfs/envs/pythonEnv-4e386f3c-0a8d-41b8-a881-1b6ceea7a1da/lib/python3.11/site-packages (from mlflow-skinny==3.1.4->mlflow[extras]) (4.25.8)\nRequirement already satisfied: pydantic<3,>=1.10.8 in /local_disk0/.ephemeral_nfs/envs/pythonEnv-4e386f3c-0a8d-41b8-a881-1b6ceea7a1da/lib/python3.11/site-packages (from mlflow-skinny==3.1.4->mlflow[extras]) (2.11.7)\nRequirement already satisfied: pyyaml<7,>=5.1 in /databricks/python3/lib/python3.11/site-packages (from mlflow-skinny==3.1.4->mlflow[extras]) (6.0)\nRequirement already satisfied: requests<3,>=2.17.3 in /databricks/python3/lib/python3.11/site-packages (from mlflow-skinny==3.1.4->mlflow[extras]) (2.31.0)\nRequirement already satisfied: sqlparse<1,>=0.4.0 in /databricks/python3/lib/python3.11/site-packages (from mlflow-skinny==3.1.4->mlflow[extras]) (0.5.1)\nRequirement already satisfied: typing-extensions<5,>=4.0.0 in /local_disk0/.ephemeral_nfs/envs/pythonEnv-4e386f3c-0a8d-41b8-a881-1b6ceea7a1da/lib/python3.11/site-packages (from mlflow-skinny==3.1.4->mlflow[extras]) (4.14.1)\nRequirement already satisfied: uvicorn<1 in /local_disk0/.ephemeral_nfs/envs/pythonEnv-4e386f3c-0a8d-41b8-a881-1b6ceea7a1da/lib/python3.11/site-packages (from mlflow-skinny==3.1.4->mlflow[extras]) (0.35.0)\nRequirement already satisfied: six in /usr/lib/python3/dist-packages (from hyperopt) (1.16.0)\nRequirement already satisfied: networkx>=2.2 in /local_disk0/.ephemeral_nfs/envs/pythonEnv-4e386f3c-0a8d-41b8-a881-1b6ceea7a1da/lib/python3.11/site-packages (from hyperopt) (3.5)\nRequirement already satisfied: future in /local_disk0/.ephemeral_nfs/envs/pythonEnv-4e386f3c-0a8d-41b8-a881-1b6ceea7a1da/lib/python3.11/site-packages (from hyperopt) (1.0.0)\nRequirement already satisfied: tqdm in /local_disk0/.ephemeral_nfs/envs/pythonEnv-4e386f3c-0a8d-41b8-a881-1b6ceea7a1da/lib/python3.11/site-packages (from hyperopt) (4.67.1)\nRequirement already satisfied: py4j in /databricks/python3/lib/python3.11/site-packages (from hyperopt) (0.10.9.7)\nRequirement already satisfied: absl-py>=1.0.0 in /local_disk0/.ephemeral_nfs/envs/pythonEnv-4e386f3c-0a8d-41b8-a881-1b6ceea7a1da/lib/python3.11/site-packages (from tensorflow) (2.3.1)\nRequirement already satisfied: astunparse>=1.6.0 in /databricks/python3/lib/python3.11/site-packages (from tensorflow) (1.6.3)\nRequirement already satisfied: flatbuffers>=24.3.25 in /local_disk0/.ephemeral_nfs/envs/pythonEnv-4e386f3c-0a8d-41b8-a881-1b6ceea7a1da/lib/python3.11/site-packages (from tensorflow) (25.2.10)\nRequirement already satisfied: gast!=0.5.0,!=0.5.1,!=0.5.2,>=0.2.1 in /local_disk0/.ephemeral_nfs/envs/pythonEnv-4e386f3c-0a8d-41b8-a881-1b6ceea7a1da/lib/python3.11/site-packages (from tensorflow) (0.6.0)\nRequirement already satisfied: google-pasta>=0.1.1 in /local_disk0/.ephemeral_nfs/envs/pythonEnv-4e386f3c-0a8d-41b8-a881-1b6ceea7a1da/lib/python3.11/site-packages (from tensorflow) (0.2.0)\nRequirement already satisfied: libclang>=13.0.0 in /local_disk0/.ephemeral_nfs/envs/pythonEnv-4e386f3c-0a8d-41b8-a881-1b6ceea7a1da/lib/python3.11/site-packages (from tensorflow) (18.1.1)\nRequirement already satisfied: opt-einsum>=2.3.2 in /local_disk0/.ephemeral_nfs/envs/pythonEnv-4e386f3c-0a8d-41b8-a881-1b6ceea7a1da/lib/python3.11/site-packages (from tensorflow) (3.4.0)\nRequirement already satisfied: setuptools in /databricks/python3/lib/python3.11/site-packages (from tensorflow) (75.1.0)\nRequirement already satisfied: termcolor>=1.1.0 in /local_disk0/.ephemeral_nfs/envs/pythonEnv-4e386f3c-0a8d-41b8-a881-1b6ceea7a1da/lib/python3.11/site-packages (from tensorflow) (3.1.0)\nRequirement already satisfied: wrapt>=1.11.0 in /local_disk0/.ephemeral_nfs/envs/pythonEnv-4e386f3c-0a8d-41b8-a881-1b6ceea7a1da/lib/python3.11/site-packages (from tensorflow) (1.17.2)\nRequirement already satisfied: grpcio<2.0,>=1.24.3 in /databricks/python3/lib/python3.11/site-packages (from tensorflow) (1.69.0)\nRequirement already satisfied: tensorboard~=2.19.0 in /local_disk0/.ephemeral_nfs/envs/pythonEnv-4e386f3c-0a8d-41b8-a881-1b6ceea7a1da/lib/python3.11/site-packages (from tensorflow) (2.19.0)\nRequirement already satisfied: keras>=3.5.0 in /local_disk0/.ephemeral_nfs/envs/pythonEnv-4e386f3c-0a8d-41b8-a881-1b6ceea7a1da/lib/python3.11/site-packages (from tensorflow) (3.11.1)\nRequirement already satisfied: h5py>=3.11.0 in /local_disk0/.ephemeral_nfs/envs/pythonEnv-4e386f3c-0a8d-41b8-a881-1b6ceea7a1da/lib/python3.11/site-packages (from tensorflow) (3.14.0)\nRequirement already satisfied: ml-dtypes<1.0.0,>=0.5.1 in /local_disk0/.ephemeral_nfs/envs/pythonEnv-4e386f3c-0a8d-41b8-a881-1b6ceea7a1da/lib/python3.11/site-packages (from tensorflow) (0.5.3)\nRequirement already satisfied: tensorflow-io-gcs-filesystem>=0.23.1 in /local_disk0/.ephemeral_nfs/envs/pythonEnv-4e386f3c-0a8d-41b8-a881-1b6ceea7a1da/lib/python3.11/site-packages (from tensorflow) (0.37.1)\nRequirement already satisfied: joblib>=1.1.1 in /databricks/python3/lib/python3.11/site-packages (from scikit-learn) (1.2.0)\nRequirement already satisfied: threadpoolctl>=2.0.0 in /databricks/python3/lib/python3.11/site-packages (from scikit-learn) (2.2.0)\nRequirement already satisfied: python-dateutil>=2.8.1 in /databricks/python3/lib/python3.11/site-packages (from pandas) (2.8.2)\nRequirement already satisfied: pytz>=2020.1 in /databricks/python3/lib/python3.11/site-packages (from pandas) (2022.7)\nRequirement already satisfied: Mako in /local_disk0/.ephemeral_nfs/envs/pythonEnv-4e386f3c-0a8d-41b8-a881-1b6ceea7a1da/lib/python3.11/site-packages (from alembic!=1.10.0,<2->mlflow[extras]) (1.3.10)\nRequirement already satisfied: wheel<1.0,>=0.23.0 in /databricks/python3/lib/python3.11/site-packages (from astunparse>=1.6.0->tensorflow) (0.38.4)\nRequirement already satisfied: backports.tempfile in /local_disk0/.ephemeral_nfs/envs/pythonEnv-4e386f3c-0a8d-41b8-a881-1b6ceea7a1da/lib/python3.11/site-packages (from azureml-core>=1.2.0->mlflow[extras]) (1.0)\nRequirement already satisfied: pathspec<1.0.0 in /databricks/python3/lib/python3.11/site-packages (from azureml-core>=1.2.0->mlflow[extras]) (0.10.3)\nRequirement already satisfied: msal<2.0.0,>=1.15.0 in /local_disk0/.ephemeral_nfs/envs/pythonEnv-4e386f3c-0a8d-41b8-a881-1b6ceea7a1da/lib/python3.11/site-packages (from azureml-core>=1.2.0->mlflow[extras]) (1.33.0)\nRequirement already satisfied: msal-extensions<=2.0.0,>=0.3.0 in /local_disk0/.ephemeral_nfs/envs/pythonEnv-4e386f3c-0a8d-41b8-a881-1b6ceea7a1da/lib/python3.11/site-packages (from azureml-core>=1.2.0->mlflow[extras]) (1.3.1)\nRequirement already satisfied: knack<0.13.0 in /local_disk0/.ephemeral_nfs/envs/pythonEnv-4e386f3c-0a8d-41b8-a881-1b6ceea7a1da/lib/python3.11/site-packages (from azureml-core>=1.2.0->mlflow[extras]) (0.12.0)\nRequirement already satisfied: azure-core<2.0.0 in /databricks/python3/lib/python3.11/site-packages (from azureml-core>=1.2.0->mlflow[extras]) (1.32.0)\nRequirement already satisfied: pkginfo in /local_disk0/.ephemeral_nfs/envs/pythonEnv-4e386f3c-0a8d-41b8-a881-1b6ceea7a1da/lib/python3.11/site-packages (from azureml-core>=1.2.0->mlflow[extras]) (1.12.1.2)\nRequirement already satisfied: argcomplete<4 in /local_disk0/.ephemeral_nfs/envs/pythonEnv-4e386f3c-0a8d-41b8-a881-1b6ceea7a1da/lib/python3.11/site-packages (from azureml-core>=1.2.0->mlflow[extras]) (3.6.2)\nRequirement already satisfied: humanfriendly<11.0,>=4.7 in /local_disk0/.ephemeral_nfs/envs/pythonEnv-4e386f3c-0a8d-41b8-a881-1b6ceea7a1da/lib/python3.11/site-packages (from azureml-core>=1.2.0->mlflow[extras]) (10.0)\nRequirement already satisfied: paramiko<4.0.0,>=2.0.8 in /local_disk0/.ephemeral_nfs/envs/pythonEnv-4e386f3c-0a8d-41b8-a881-1b6ceea7a1da/lib/python3.11/site-packages (from azureml-core>=1.2.0->mlflow[extras]) (3.5.1)\nRequirement already satisfied: azure-mgmt-resource<=24.0.0,>=15.0.0 in /local_disk0/.ephemeral_nfs/envs/pythonEnv-4e386f3c-0a8d-41b8-a881-1b6ceea7a1da/lib/python3.11/site-packages (from azureml-core>=1.2.0->mlflow[extras]) (24.0.0)\nRequirement already satisfied: azure-mgmt-containerregistry<14,>=8.2.0 in /local_disk0/.ephemeral_nfs/envs/pythonEnv-4e386f3c-0a8d-41b8-a881-1b6ceea7a1da/lib/python3.11/site-packages (from azureml-core>=1.2.0->mlflow[extras]) (13.0.0)\nRequirement already satisfied: azure-mgmt-storage<=23.0.0,>=16.0.0 in /local_disk0/.ephemeral_nfs/envs/pythonEnv-4e386f3c-0a8d-41b8-a881-1b6ceea7a1da/lib/python3.11/site-packages (from azureml-core>=1.2.0->mlflow[extras]) (23.0.0)\nRequirement already satisfied: azure-mgmt-keyvault<12.0.0,>=0.40.0 in /local_disk0/.ephemeral_nfs/envs/pythonEnv-4e386f3c-0a8d-41b8-a881-1b6ceea7a1da/lib/python3.11/site-packages (from azureml-core>=1.2.0->mlflow[extras]) (11.0.0)\nRequirement already satisfied: azure-mgmt-authorization<5,>=0.40.0 in /local_disk0/.ephemeral_nfs/envs/pythonEnv-4e386f3c-0a8d-41b8-a881-1b6ceea7a1da/lib/python3.11/site-packages (from azureml-core>=1.2.0->mlflow[extras]) (4.0.0)\nRequirement already satisfied: azure-mgmt-network<=29.0.0 in /local_disk0/.ephemeral_nfs/envs/pythonEnv-4e386f3c-0a8d-41b8-a881-1b6ceea7a1da/lib/python3.11/site-packages (from azureml-core>=1.2.0->mlflow[extras]) (29.0.0)\nRequirement already satisfied: azure-graphrbac<1.0.0,>=0.40.0 in /local_disk0/.ephemeral_nfs/envs/pythonEnv-4e386f3c-0a8d-41b8-a881-1b6ceea7a1da/lib/python3.11/site-packages (from azureml-core>=1.2.0->mlflow[extras]) (0.61.2)\nRequirement already satisfied: azure-common<2.0.0,>=1.1.12 in /local_disk0/.ephemeral_nfs/envs/pythonEnv-4e386f3c-0a8d-41b8-a881-1b6ceea7a1da/lib/python3.11/site-packages (from azureml-core>=1.2.0->mlflow[extras]) (1.1.28)\nRequirement already satisfied: msrest<=0.7.1,>=0.5.1 in /local_disk0/.ephemeral_nfs/envs/pythonEnv-4e386f3c-0a8d-41b8-a881-1b6ceea7a1da/lib/python3.11/site-packages (from azureml-core>=1.2.0->mlflow[extras]) (0.7.1)\nRequirement already satisfied: msrestazure<=0.7,>=0.4.33 in /local_disk0/.ephemeral_nfs/envs/pythonEnv-4e386f3c-0a8d-41b8-a881-1b6ceea7a1da/lib/python3.11/site-packages (from azureml-core>=1.2.0->mlflow[extras]) (0.6.4.post1)\nRequirement already satisfied: urllib3<3.0.0,>1.26.17 in /local_disk0/.ephemeral_nfs/envs/pythonEnv-4e386f3c-0a8d-41b8-a881-1b6ceea7a1da/lib/python3.11/site-packages (from azureml-core>=1.2.0->mlflow[extras]) (2.0.7)\nRequirement already satisfied: ndg-httpsclient<=0.5.1 in /local_disk0/.ephemeral_nfs/envs/pythonEnv-4e386f3c-0a8d-41b8-a881-1b6ceea7a1da/lib/python3.11/site-packages (from azureml-core>=1.2.0->mlflow[extras]) (0.5.1)\nRequirement already satisfied: SecretStorage<4.0.0 in /usr/lib/python3/dist-packages (from azureml-core>=1.2.0->mlflow[extras]) (3.3.1)\nRequirement already satisfied: jsonpickle<5.0.0 in /local_disk0/.ephemeral_nfs/envs/pythonEnv-4e386f3c-0a8d-41b8-a881-1b6ceea7a1da/lib/python3.11/site-packages (from azureml-core>=1.2.0->mlflow[extras]) (4.1.1)\nRequirement already satisfied: contextlib2<22.0.0 in /local_disk0/.ephemeral_nfs/envs/pythonEnv-4e386f3c-0a8d-41b8-a881-1b6ceea7a1da/lib/python3.11/site-packages (from azureml-core>=1.2.0->mlflow[extras]) (21.6.0)\nRequirement already satisfied: PyJWT<3.0.0 in /usr/lib/python3/dist-packages (from azureml-core>=1.2.0->mlflow[extras]) (2.3.0)\nRequirement already satisfied: adal<=1.2.7,>=1.2.0 in /local_disk0/.ephemeral_nfs/envs/pythonEnv-4e386f3c-0a8d-41b8-a881-1b6ceea7a1da/lib/python3.11/site-packages (from azureml-core>=1.2.0->mlflow[extras]) (1.2.7)\nRequirement already satisfied: pyopenssl<26.0.0 in /local_disk0/.ephemeral_nfs/envs/pythonEnv-4e386f3c-0a8d-41b8-a881-1b6ceea7a1da/lib/python3.11/site-packages (from azureml-core>=1.2.0->mlflow[extras]) (25.1.0)\nRequirement already satisfied: jmespath<2.0.0 in /databricks/python3/lib/python3.11/site-packages (from azureml-core>=1.2.0->mlflow[extras]) (0.10.0)\nRequirement already satisfied: blinker>=1.9.0 in /local_disk0/.ephemeral_nfs/envs/pythonEnv-4e386f3c-0a8d-41b8-a881-1b6ceea7a1da/lib/python3.11/site-packages (from Flask<4->mlflow[extras]) (1.9.0)\nRequirement already satisfied: itsdangerous>=2.2.0 in /local_disk0/.ephemeral_nfs/envs/pythonEnv-4e386f3c-0a8d-41b8-a881-1b6ceea7a1da/lib/python3.11/site-packages (from Flask<4->mlflow[extras]) (2.2.0)\nRequirement already satisfied: jinja2>=3.1.2 in /local_disk0/.ephemeral_nfs/envs/pythonEnv-4e386f3c-0a8d-41b8-a881-1b6ceea7a1da/lib/python3.11/site-packages (from Flask<4->mlflow[extras]) (3.1.6)\nRequirement already satisfied: markupsafe>=2.1.1 in /local_disk0/.ephemeral_nfs/envs/pythonEnv-4e386f3c-0a8d-41b8-a881-1b6ceea7a1da/lib/python3.11/site-packages (from Flask<4->mlflow[extras]) (3.0.2)\nRequirement already satisfied: werkzeug>=3.1.0 in /local_disk0/.ephemeral_nfs/envs/pythonEnv-4e386f3c-0a8d-41b8-a881-1b6ceea7a1da/lib/python3.11/site-packages (from Flask<4->mlflow[extras]) (3.1.3)\nRequirement already satisfied: google-auth<3.0dev,>=2.26.1 in /databricks/python3/lib/python3.11/site-packages (from google-cloud-storage>=1.30.0->mlflow[extras]) (2.35.0)\nRequirement already satisfied: google-api-core<3.0.0dev,>=2.15.0 in /databricks/python3/lib/python3.11/site-packages (from google-cloud-storage>=1.30.0->mlflow[extras]) (2.18.0)\nRequirement already satisfied: google-cloud-core<3.0dev,>=2.3.0 in /databricks/python3/lib/python3.11/site-packages (from google-cloud-storage>=1.30.0->mlflow[extras]) (2.4.1)\nRequirement already satisfied: google-resumable-media>=2.7.2 in /databricks/python3/lib/python3.11/site-packages (from google-cloud-storage>=1.30.0->mlflow[extras]) (2.7.2)\nRequirement already satisfied: google-crc32c<2.0dev,>=1.0 in /databricks/python3/lib/python3.11/site-packages (from google-cloud-storage>=1.30.0->mlflow[extras]) (1.6.0)\nRequirement already satisfied: graphql-core<3.3,>=3.1 in /local_disk0/.ephemeral_nfs/envs/pythonEnv-4e386f3c-0a8d-41b8-a881-1b6ceea7a1da/lib/python3.11/site-packages (from graphene<4->mlflow[extras]) (3.2.6)\nRequirement already satisfied: graphql-relay<3.3,>=3.1 in /local_disk0/.ephemeral_nfs/envs/pythonEnv-4e386f3c-0a8d-41b8-a881-1b6ceea7a1da/lib/python3.11/site-packages (from graphene<4->mlflow[extras]) (3.2.0)\nRequirement already satisfied: rich in /local_disk0/.ephemeral_nfs/envs/pythonEnv-4e386f3c-0a8d-41b8-a881-1b6ceea7a1da/lib/python3.11/site-packages (from keras>=3.5.0->tensorflow) (14.1.0)\nRequirement already satisfied: namex in /local_disk0/.ephemeral_nfs/envs/pythonEnv-4e386f3c-0a8d-41b8-a881-1b6ceea7a1da/lib/python3.11/site-packages (from keras>=3.5.0->tensorflow) (0.1.0)\nRequirement already satisfied: optree in /local_disk0/.ephemeral_nfs/envs/pythonEnv-4e386f3c-0a8d-41b8-a881-1b6ceea7a1da/lib/python3.11/site-packages (from keras>=3.5.0->tensorflow) (0.17.0)\nRequirement already satisfied: contourpy>=1.0.1 in /databricks/python3/lib/python3.11/site-packages (from matplotlib<4->mlflow[extras]) (1.0.5)\nRequirement already satisfied: cycler>=0.10 in /databricks/python3/lib/python3.11/site-packages (from matplotlib<4->mlflow[extras]) (0.11.0)\nRequirement already satisfied: fonttools>=4.22.0 in /databricks/python3/lib/python3.11/site-packages (from matplotlib<4->mlflow[extras]) (4.25.0)\nRequirement already satisfied: kiwisolver>=1.0.1 in /databricks/python3/lib/python3.11/site-packages (from matplotlib<4->mlflow[extras]) (1.4.4)\nRequirement already satisfied: pillow>=6.2.0 in /databricks/python3/lib/python3.11/site-packages (from matplotlib<4->mlflow[extras]) (10.3.0)\nRequirement already satisfied: pyparsing<3.1,>=2.3.1 in /databricks/python3/lib/python3.11/site-packages (from matplotlib<4->mlflow[extras]) (3.0.9)\nRequirement already satisfied: charset-normalizer<4,>=2 in /databricks/python3/lib/python3.11/site-packages (from requests<3,>=2.17.3->mlflow-skinny==3.1.4->mlflow[extras]) (2.0.4)\nRequirement already satisfied: idna<4,>=2.5 in /databricks/python3/lib/python3.11/site-packages (from requests<3,>=2.17.3->mlflow-skinny==3.1.4->mlflow[extras]) (3.4)\nRequirement already satisfied: certifi>=2017.4.17 in /databricks/python3/lib/python3.11/site-packages (from requests<3,>=2.17.3->mlflow-skinny==3.1.4->mlflow[extras]) (2023.7.22)\nRequirement already satisfied: greenlet>=1 in /local_disk0/.ephemeral_nfs/envs/pythonEnv-4e386f3c-0a8d-41b8-a881-1b6ceea7a1da/lib/python3.11/site-packages (from sqlalchemy<3,>=1.4.0->mlflow[extras]) (3.2.3)\nRequirement already satisfied: markdown>=2.6.8 in /local_disk0/.ephemeral_nfs/envs/pythonEnv-4e386f3c-0a8d-41b8-a881-1b6ceea7a1da/lib/python3.11/site-packages (from tensorboard~=2.19.0->tensorflow) (3.8.2)\nRequirement already satisfied: tensorboard-data-server<0.8.0,>=0.7.0 in /local_disk0/.ephemeral_nfs/envs/pythonEnv-4e386f3c-0a8d-41b8-a881-1b6ceea7a1da/lib/python3.11/site-packages (from tensorboard~=2.19.0->tensorflow) (0.7.2)\nRequirement already satisfied: s3transfer<0.11.0,>=0.10.0 in /databricks/python3/lib/python3.11/site-packages (from boto3->mlflow[extras]) (0.10.3)\nRequirement already satisfied: websocket-client!=0.40.0,!=0.41.*,!=0.42.*,>=0.32.0 in /local_disk0/.ephemeral_nfs/envs/pythonEnv-4e386f3c-0a8d-41b8-a881-1b6ceea7a1da/lib/python3.11/site-packages (from kubernetes->mlflow[extras]) (1.8.0)\nRequirement already satisfied: requests-oauthlib in /local_disk0/.ephemeral_nfs/envs/pythonEnv-4e386f3c-0a8d-41b8-a881-1b6ceea7a1da/lib/python3.11/site-packages (from kubernetes->mlflow[extras]) (2.0.0)\nRequirement already satisfied: oauthlib>=3.2.2 in /local_disk0/.ephemeral_nfs/envs/pythonEnv-4e386f3c-0a8d-41b8-a881-1b6ceea7a1da/lib/python3.11/site-packages (from kubernetes->mlflow[extras]) (3.3.1)\nRequirement already satisfied: durationpy>=0.7 in /local_disk0/.ephemeral_nfs/envs/pythonEnv-4e386f3c-0a8d-41b8-a881-1b6ceea7a1da/lib/python3.11/site-packages (from kubernetes->mlflow[extras]) (0.10)\nRequirement already satisfied: prometheus_client in /local_disk0/.ephemeral_nfs/envs/pythonEnv-4e386f3c-0a8d-41b8-a881-1b6ceea7a1da/lib/python3.11/site-packages (from prometheus-flask-exporter->mlflow[extras]) (0.22.1)\nRequirement already satisfied: distlib<1,>=0.3.7 in /usr/local/lib/python3.11/dist-packages (from virtualenv->mlflow[extras]) (0.3.9)\nRequirement already satisfied: filelock<4,>=3.12.2 in /databricks/python3/lib/python3.11/site-packages (from virtualenv->mlflow[extras]) (3.13.4)\nRequirement already satisfied: platformdirs<5,>=3.9.1 in /databricks/python3/lib/python3.11/site-packages (from virtualenv->mlflow[extras]) (3.10.0)\nRequirement already satisfied: cryptography>=1.1.0 in /local_disk0/.ephemeral_nfs/envs/pythonEnv-4e386f3c-0a8d-41b8-a881-1b6ceea7a1da/lib/python3.11/site-packages (from adal<=1.2.7,>=1.2.0->azureml-core>=1.2.0->mlflow[extras]) (45.0.5)\nRequirement already satisfied: isodate<1.0.0,>=0.6.1 in /databricks/python3/lib/python3.11/site-packages (from azure-mgmt-authorization<5,>=0.40.0->azureml-core>=1.2.0->mlflow[extras]) (0.7.2)\nRequirement already satisfied: azure-mgmt-core<2.0.0,>=1.3.2 in /local_disk0/.ephemeral_nfs/envs/pythonEnv-4e386f3c-0a8d-41b8-a881-1b6ceea7a1da/lib/python3.11/site-packages (from azure-mgmt-authorization<5,>=0.40.0->azureml-core>=1.2.0->mlflow[extras]) (1.6.0)\nRequirement already satisfied: starlette<0.48.0,>=0.40.0 in /local_disk0/.ephemeral_nfs/envs/pythonEnv-4e386f3c-0a8d-41b8-a881-1b6ceea7a1da/lib/python3.11/site-packages (from fastapi<1->mlflow-skinny==3.1.4->mlflow[extras]) (0.47.2)\nRequirement already satisfied: gitdb<5,>=4.0.1 in /databricks/python3/lib/python3.11/site-packages (from gitpython<4,>=3.1.9->mlflow-skinny==3.1.4->mlflow[extras]) (4.0.11)\nRequirement already satisfied: googleapis-common-protos<2.0.dev0,>=1.56.2 in /databricks/python3/lib/python3.11/site-packages (from google-api-core<3.0.0dev,>=2.15.0->google-cloud-storage>=1.30.0->mlflow[extras]) (1.65.0)\nRequirement already satisfied: proto-plus<2.0.0dev,>=1.22.3 in /databricks/python3/lib/python3.11/site-packages (from google-api-core<3.0.0dev,>=2.15.0->google-cloud-storage>=1.30.0->mlflow[extras]) (1.25.0)\nRequirement already satisfied: pyasn1-modules>=0.2.1 in /databricks/python3/lib/python3.11/site-packages (from google-auth<3.0dev,>=2.26.1->google-cloud-storage>=1.30.0->mlflow[extras]) (0.2.8)\nRequirement already satisfied: rsa<5,>=3.1.4 in /databricks/python3/lib/python3.11/site-packages (from google-auth<3.0dev,>=2.26.1->google-cloud-storage>=1.30.0->mlflow[extras]) (4.9)\nRequirement already satisfied: zipp>=0.5 in /databricks/python3/lib/python3.11/site-packages (from importlib_metadata!=4.7.0,<9,>=3.7.0->mlflow-skinny==3.1.4->mlflow[extras]) (3.11.0)\nRequirement already satisfied: pygments in /databricks/python3/lib/python3.11/site-packages (from knack<0.13.0->azureml-core>=1.2.0->mlflow[extras]) (2.15.1)\nRequirement already satisfied: tabulate in /local_disk0/.ephemeral_nfs/envs/pythonEnv-4e386f3c-0a8d-41b8-a881-1b6ceea7a1da/lib/python3.11/site-packages (from knack<0.13.0->azureml-core>=1.2.0->mlflow[extras]) (0.9.0)\nRequirement already satisfied: pyasn1>=0.1.1 in /databricks/python3/lib/python3.11/site-packages (from ndg-httpsclient<=0.5.1->azureml-core>=1.2.0->mlflow[extras]) (0.4.8)\nRequirement already satisfied: opentelemetry-semantic-conventions==0.57b0 in /local_disk0/.ephemeral_nfs/envs/pythonEnv-4e386f3c-0a8d-41b8-a881-1b6ceea7a1da/lib/python3.11/site-packages (from opentelemetry-sdk<3,>=1.9.0->mlflow-skinny==3.1.4->mlflow[extras]) (0.57b0)\nRequirement already satisfied: bcrypt>=3.2 in /local_disk0/.ephemeral_nfs/envs/pythonEnv-4e386f3c-0a8d-41b8-a881-1b6ceea7a1da/lib/python3.11/site-packages (from paramiko<4.0.0,>=2.0.8->azureml-core>=1.2.0->mlflow[extras]) (4.3.0)\nRequirement already satisfied: pynacl>=1.5 in /local_disk0/.ephemeral_nfs/envs/pythonEnv-4e386f3c-0a8d-41b8-a881-1b6ceea7a1da/lib/python3.11/site-packages (from paramiko<4.0.0,>=2.0.8->azureml-core>=1.2.0->mlflow[extras]) (1.5.0)\nRequirement already satisfied: annotated-types>=0.6.0 in /local_disk0/.ephemeral_nfs/envs/pythonEnv-4e386f3c-0a8d-41b8-a881-1b6ceea7a1da/lib/python3.11/site-packages (from pydantic<3,>=1.10.8->mlflow-skinny==3.1.4->mlflow[extras]) (0.7.0)\nRequirement already satisfied: pydantic-core==2.33.2 in /local_disk0/.ephemeral_nfs/envs/pythonEnv-4e386f3c-0a8d-41b8-a881-1b6ceea7a1da/lib/python3.11/site-packages (from pydantic<3,>=1.10.8->mlflow-skinny==3.1.4->mlflow[extras]) (2.33.2)\nRequirement already satisfied: typing-inspection>=0.4.0 in /local_disk0/.ephemeral_nfs/envs/pythonEnv-4e386f3c-0a8d-41b8-a881-1b6ceea7a1da/lib/python3.11/site-packages (from pydantic<3,>=1.10.8->mlflow-skinny==3.1.4->mlflow[extras]) (0.4.1)\nRequirement already satisfied: PySocks!=1.5.7,>=1.5.6 in /local_disk0/.ephemeral_nfs/envs/pythonEnv-4e386f3c-0a8d-41b8-a881-1b6ceea7a1da/lib/python3.11/site-packages (from requests[socks]<3.0.0,>=2.19.1->azureml-core>=1.2.0->mlflow[extras]) (1.7.1)\nRequirement already satisfied: h11>=0.8 in /local_disk0/.ephemeral_nfs/envs/pythonEnv-4e386f3c-0a8d-41b8-a881-1b6ceea7a1da/lib/python3.11/site-packages (from uvicorn<1->mlflow-skinny==3.1.4->mlflow[extras]) (0.16.0)\nRequirement already satisfied: backports.weakref in /local_disk0/.ephemeral_nfs/envs/pythonEnv-4e386f3c-0a8d-41b8-a881-1b6ceea7a1da/lib/python3.11/site-packages (from backports.tempfile->azureml-core>=1.2.0->mlflow[extras]) (1.0.post1)\nRequirement already satisfied: markdown-it-py>=2.2.0 in /local_disk0/.ephemeral_nfs/envs/pythonEnv-4e386f3c-0a8d-41b8-a881-1b6ceea7a1da/lib/python3.11/site-packages (from rich->keras>=3.5.0->tensorflow) (3.0.0)\nRequirement already satisfied: cffi>=1.14 in /databricks/python3/lib/python3.11/site-packages (from cryptography>=1.1.0->adal<=1.2.7,>=1.2.0->azureml-core>=1.2.0->mlflow[extras]) (1.15.1)\nRequirement already satisfied: smmap<6,>=3.0.1 in /databricks/python3/lib/python3.11/site-packages (from gitdb<5,>=4.0.1->gitpython<4,>=3.1.9->mlflow-skinny==3.1.4->mlflow[extras]) (5.0.1)\nRequirement already satisfied: mdurl~=0.1 in /local_disk0/.ephemeral_nfs/envs/pythonEnv-4e386f3c-0a8d-41b8-a881-1b6ceea7a1da/lib/python3.11/site-packages (from markdown-it-py>=2.2.0->rich->keras>=3.5.0->tensorflow) (0.1.2)\nRequirement already satisfied: anyio<5,>=3.6.2 in /local_disk0/.ephemeral_nfs/envs/pythonEnv-4e386f3c-0a8d-41b8-a881-1b6ceea7a1da/lib/python3.11/site-packages (from starlette<0.48.0,>=0.40.0->fastapi<1->mlflow-skinny==3.1.4->mlflow[extras]) (4.9.0)\nRequirement already satisfied: sniffio>=1.1 in /local_disk0/.ephemeral_nfs/envs/pythonEnv-4e386f3c-0a8d-41b8-a881-1b6ceea7a1da/lib/python3.11/site-packages (from anyio<5,>=3.6.2->starlette<0.48.0,>=0.40.0->fastapi<1->mlflow-skinny==3.1.4->mlflow[extras]) (1.3.1)\nRequirement already satisfied: pycparser in /databricks/python3/lib/python3.11/site-packages (from cffi>=1.14->cryptography>=1.1.0->adal<=1.2.7,>=1.2.0->azureml-core>=1.2.0->mlflow[extras]) (2.21)\n\u001B[43mNote: you may need to restart the kernel using %restart_python or dbutils.library.restartPython() to use updated packages.\u001B[0m\n"
     ]
    }
   ],
   "source": [
    "pip install mlflow[extras] hyperopt tensorflow scikit-learn pandas numpy"
   ]
  },
  {
   "cell_type": "markdown",
   "metadata": {
    "application/vnd.databricks.v1+cell": {
     "cellMetadata": {
      "byteLimit": 2048000,
      "rowLimit": 10000
     },
     "inputWidgets": {},
     "nuid": "bd128772-8295-4e6a-9e19-a6a024b3d1c6",
     "showTitle": false,
     "tableResultSettingsMap": {},
     "title": ""
    }
   },
   "source": [
    "**The Challenge**: Wine Quality Prediction\n",
    "We'll optimize a neural network that predicts wine quality from chemical properties. Our goal is to minimize Root Mean Square Error (RMSE) by finding the optimal combination of:\n",
    "\n",
    "* Learning Rate: How aggressively the model learns\n",
    "* Momentum: How much the optimizer considers previous updates\n"
   ]
  },
  {
   "cell_type": "markdown",
   "metadata": {
    "application/vnd.databricks.v1+cell": {
     "cellMetadata": {
      "byteLimit": 2048000,
      "rowLimit": 10000
     },
     "inputWidgets": {},
     "nuid": "e9ad8899-8ada-4ab4-a8f5-d3d751905174",
     "showTitle": false,
     "tableResultSettingsMap": {},
     "title": ""
    }
   },
   "source": [
    "Step 1: Prepare Your Data\n",
    "\n",
    "First, let's load and explore our dataset:"
   ]
  },
  {
   "cell_type": "code",
   "execution_count": 0,
   "metadata": {
    "application/vnd.databricks.v1+cell": {
     "cellMetadata": {
      "byteLimit": 2048000,
      "rowLimit": 10000
     },
     "inputWidgets": {},
     "nuid": "339d0b77-1dff-496f-9b2e-1aaeb493d6fa",
     "showTitle": false,
     "tableResultSettingsMap": {},
     "title": ""
    }
   },
   "outputs": [
    {
     "output_type": "stream",
     "name": "stderr",
     "output_type": "stream",
     "text": [
      "2025-08-03 09:58:12.138089: I tensorflow/core/util/port.cc:153] oneDNN custom operations are on. You may see slightly different numerical results due to floating-point round-off errors from different computation orders. To turn them off, set the environment variable `TF_ENABLE_ONEDNN_OPTS=0`.\n2025-08-03 09:58:12.140538: I external/local_xla/xla/tsl/cuda/cudart_stub.cc:32] Could not find cuda drivers on your machine, GPU will not be used.\n2025-08-03 09:58:12.451060: I external/local_xla/xla/tsl/cuda/cudart_stub.cc:32] Could not find cuda drivers on your machine, GPU will not be used.\n2025-08-03 09:58:12.815858: E external/local_xla/xla/stream_executor/cuda/cuda_fft.cc:467] Unable to register cuFFT factory: Attempting to register factory for plugin cuFFT when one has already been registered\nWARNING: All log messages before absl::InitializeLog() is called are written to STDERR\nE0000 00:00:1754215093.117896   10442 cuda_dnn.cc:8579] Unable to register cuDNN factory: Attempting to register factory for plugin cuDNN when one has already been registered\nE0000 00:00:1754215093.196358   10442 cuda_blas.cc:1407] Unable to register cuBLAS factory: Attempting to register factory for plugin cuBLAS when one has already been registered\nW0000 00:00:1754215093.793762   10442 computation_placer.cc:177] computation placer already registered. Please check linkage and avoid linking the same target more than once.\nW0000 00:00:1754215093.793946   10442 computation_placer.cc:177] computation placer already registered. Please check linkage and avoid linking the same target more than once.\nW0000 00:00:1754215093.793951   10442 computation_placer.cc:177] computation placer already registered. Please check linkage and avoid linking the same target more than once.\nW0000 00:00:1754215093.793953   10442 computation_placer.cc:177] computation placer already registered. Please check linkage and avoid linking the same target more than once.\n2025-08-03 09:58:13.919640: I tensorflow/core/platform/cpu_feature_guard.cc:210] This TensorFlow binary is optimized to use available CPU instructions in performance-critical operations.\nTo enable the following instructions: AVX2 AVX512F AVX512_VNNI FMA, in other operations, rebuild TensorFlow with the appropriate compiler flags.\n"
     ]
    }
   ],
   "source": [
    "import pandas as pd\n",
    "import numpy as np\n",
    "from sklearn.model_selection import train_test_split\n",
    "from sklearn.metrics import mean_squared_error\n",
    "import tensorflow as tf\n",
    "from tensorflow import keras\n",
    "import mlflow\n",
    "from mlflow.models import infer_signature\n",
    "from hyperopt import fmin, tpe, hp, STATUS_OK, Trials\n",
    "\n",
    "# Load the wine quality dataset\n",
    "data = pd.read_csv(\n",
    "    \"https://raw.githubusercontent.com/mlflow/mlflow/master/tests/datasets/winequality-white.csv\",\n",
    "    sep=\";\",\n",
    ")\n",
    "\n",
    "# Create train/validation/test splits\n",
    "train, test = train_test_split(data, test_size=0.25, random_state=42)\n",
    "train_x = train.drop([\"quality\"], axis=1).values\n",
    "train_y = train[[\"quality\"]].values.ravel()\n",
    "test_x = test.drop([\"quality\"], axis=1).values\n",
    "test_y = test[[\"quality\"]].values.ravel()\n",
    "\n",
    "# Further split training data for validation\n",
    "train_x, valid_x, train_y, valid_y = train_test_split(\n",
    "    train_x, train_y, test_size=0.2, random_state=42\n",
    ")\n",
    "\n",
    "# Create model signature for deployment\n",
    "signature = infer_signature(train_x, train_y)"
   ]
  },
  {
   "cell_type": "markdown",
   "metadata": {
    "application/vnd.databricks.v1+cell": {
     "cellMetadata": {
      "byteLimit": 2048000,
      "rowLimit": 10000
     },
     "inputWidgets": {},
     "nuid": "cf3cb727-5df8-4169-88ac-ad67a926e334",
     "showTitle": false,
     "tableResultSettingsMap": {},
     "title": ""
    }
   },
   "source": [
    "Step 2: Define Your Model Architecture\n",
    "\n",
    "Create a reusable function to build and train models:"
   ]
  },
  {
   "cell_type": "code",
   "execution_count": 0,
   "metadata": {
    "application/vnd.databricks.v1+cell": {
     "cellMetadata": {
      "byteLimit": 2048000,
      "rowLimit": 10000
     },
     "inputWidgets": {},
     "nuid": "d9ad2a3d-2593-4488-a87e-cae71952664b",
     "showTitle": false,
     "tableResultSettingsMap": {},
     "title": ""
    }
   },
   "outputs": [],
   "source": [
    "def create_and_train_model(learning_rate, momentum, epochs=10):\n",
    "    \"\"\"\n",
    "    Create and train a neural network with specified hyperparameters.\n",
    "\n",
    "    Returns:\n",
    "        dict: Training results including model and metrics\n",
    "    \"\"\"\n",
    "    # Normalize input features for better training stability\n",
    "    mean = np.mean(train_x, axis=0)\n",
    "    var = np.var(train_x, axis=0)\n",
    "\n",
    "    # Define model architecture\n",
    "    model = keras.Sequential(\n",
    "        [\n",
    "            keras.Input([train_x.shape[1]]),\n",
    "            keras.layers.Normalization(mean=mean, variance=var),\n",
    "            keras.layers.Dense(64, activation=\"relu\"),\n",
    "            keras.layers.Dropout(0.2),  # Add regularization\n",
    "            keras.layers.Dense(32, activation=\"relu\"),\n",
    "            keras.layers.Dense(1),\n",
    "        ]\n",
    "    )\n",
    "\n",
    "    # Compile with specified hyperparameters\n",
    "    model.compile(\n",
    "        optimizer=keras.optimizers.SGD(learning_rate=learning_rate, momentum=momentum),\n",
    "        loss=\"mean_squared_error\",\n",
    "        metrics=[keras.metrics.RootMeanSquaredError()],\n",
    "    )\n",
    "\n",
    "    # Train with early stopping for efficiency\n",
    "    early_stopping = keras.callbacks.EarlyStopping(\n",
    "        patience=3, restore_best_weights=True\n",
    "    )\n",
    "\n",
    "    # Train the model\n",
    "    history = model.fit(\n",
    "        train_x,\n",
    "        train_y,\n",
    "        validation_data=(valid_x, valid_y),\n",
    "        epochs=epochs,\n",
    "        batch_size=64,\n",
    "        callbacks=[early_stopping],\n",
    "        verbose=0,  # Reduce output for cleaner logs\n",
    "    )\n",
    "\n",
    "    # Evaluate on validation set\n",
    "    val_loss, val_rmse = model.evaluate(valid_x, valid_y, verbose=0)\n",
    "\n",
    "    return {\n",
    "        \"model\": model,\n",
    "        \"val_rmse\": val_rmse,\n",
    "        \"val_loss\": val_loss,\n",
    "        \"history\": history,\n",
    "        \"epochs_trained\": len(history.history[\"loss\"]),\n",
    "    }"
   ]
  },
  {
   "cell_type": "markdown",
   "metadata": {
    "application/vnd.databricks.v1+cell": {
     "cellMetadata": {
      "byteLimit": 2048000,
      "rowLimit": 10000
     },
     "inputWidgets": {},
     "nuid": "d198cb85-be55-4daf-b07e-b5e9e1067149",
     "showTitle": false,
     "tableResultSettingsMap": {},
     "title": ""
    }
   },
   "source": [
    "Step 3: Set Up Hyperparameter Optimization\n",
    "\n",
    "Now let's create the optimization framework:"
   ]
  },
  {
   "cell_type": "code",
   "execution_count": 0,
   "metadata": {
    "application/vnd.databricks.v1+cell": {
     "cellMetadata": {
      "byteLimit": 2048000,
      "rowLimit": 10000
     },
     "inputWidgets": {},
     "nuid": "6e0b328b-a4ee-4d02-96b3-7c83a2a85a67",
     "showTitle": false,
     "tableResultSettingsMap": {},
     "title": ""
    }
   },
   "outputs": [
    {
     "output_type": "stream",
     "name": "stdout",
     "output_type": "stream",
     "text": [
      "Search space defined:\n- Learning rate: 1e-5 to 1e-1 (log-uniform)\n- Momentum: 0.0 to 0.9 (uniform)\n"
     ]
    }
   ],
   "source": [
    "def objective(params):\n",
    "    \"\"\"\n",
    "    Objective function for hyperparameter optimization.\n",
    "    This function will be called by Hyperopt for each trial.\n",
    "    \"\"\"\n",
    "    with mlflow.start_run(nested=True):\n",
    "        # Log hyperparameters being tested\n",
    "        mlflow.log_params(\n",
    "            {\n",
    "                \"learning_rate\": params[\"learning_rate\"],\n",
    "                \"momentum\": params[\"momentum\"],\n",
    "                \"optimizer\": \"SGD\",\n",
    "                \"architecture\": \"64-32-1\",\n",
    "            }\n",
    "        )\n",
    "\n",
    "        # Train model with current hyperparameters\n",
    "        result = create_and_train_model(\n",
    "            learning_rate=params[\"learning_rate\"],\n",
    "            momentum=params[\"momentum\"],\n",
    "            epochs=15,\n",
    "        )\n",
    "\n",
    "        # Log training results\n",
    "        mlflow.log_metrics(\n",
    "            {\n",
    "                \"val_rmse\": result[\"val_rmse\"],\n",
    "                \"val_loss\": result[\"val_loss\"],\n",
    "                \"epochs_trained\": result[\"epochs_trained\"],\n",
    "            }\n",
    "        )\n",
    "\n",
    "        # Log the trained model\n",
    "        mlflow.tensorflow.log_model(result[\"model\"], name=\"model\", signature=signature)\n",
    "\n",
    "        # Log training curves as artifacts\n",
    "        import matplotlib.pyplot as plt\n",
    "\n",
    "        plt.figure(figsize=(12, 4))\n",
    "\n",
    "        plt.subplot(1, 2, 1)\n",
    "        plt.plot(result[\"history\"].history[\"loss\"], label=\"Training Loss\")\n",
    "        plt.plot(result[\"history\"].history[\"val_loss\"], label=\"Validation Loss\")\n",
    "        plt.title(\"Model Loss\")\n",
    "        plt.xlabel(\"Epoch\")\n",
    "        plt.ylabel(\"Loss\")\n",
    "        plt.legend()\n",
    "\n",
    "        plt.subplot(1, 2, 2)\n",
    "        plt.plot(\n",
    "            result[\"history\"].history[\"root_mean_squared_error\"], label=\"Training RMSE\"\n",
    "        )\n",
    "        plt.plot(\n",
    "            result[\"history\"].history[\"val_root_mean_squared_error\"],\n",
    "            label=\"Validation RMSE\",\n",
    "        )\n",
    "        plt.title(\"Model RMSE\")\n",
    "        plt.xlabel(\"Epoch\")\n",
    "        plt.ylabel(\"RMSE\")\n",
    "        plt.legend()\n",
    "\n",
    "        plt.tight_layout()\n",
    "        plt.savefig(\"training_curves.png\")\n",
    "        mlflow.log_artifact(\"training_curves.png\")\n",
    "        plt.close()\n",
    "\n",
    "        # Return loss for Hyperopt (it minimizes)\n",
    "        return {\"loss\": result[\"val_rmse\"], \"status\": STATUS_OK}\n",
    "\n",
    "\n",
    "# Define search space for hyperparameters\n",
    "search_space = {\n",
    "    \"learning_rate\": hp.loguniform(\"learning_rate\", np.log(1e-5), np.log(1e-1)),\n",
    "    \"momentum\": hp.uniform(\"momentum\", 0.0, 0.9),\n",
    "}\n",
    "\n",
    "print(\"Search space defined:\")\n",
    "print(\"- Learning rate: 1e-5 to 1e-1 (log-uniform)\")\n",
    "print(\"- Momentum: 0.0 to 0.9 (uniform)\")"
   ]
  },
  {
   "cell_type": "markdown",
   "metadata": {
    "application/vnd.databricks.v1+cell": {
     "cellMetadata": {
      "byteLimit": 2048000,
      "rowLimit": 10000
     },
     "inputWidgets": {},
     "nuid": "d043983a-fba0-44f4-b180-c02c7c248770",
     "showTitle": false,
     "tableResultSettingsMap": {},
     "title": ""
    }
   },
   "source": [
    "Step 4: Run the Hyperparameter Optimization\n",
    "\n",
    "Execute the optimization experiment:"
   ]
  },
  {
   "cell_type": "code",
   "execution_count": 0,
   "metadata": {
    "application/vnd.databricks.v1+cell": {
     "cellMetadata": {
      "byteLimit": 2048000,
      "rowLimit": 10000
     },
     "inputWidgets": {},
     "nuid": "85ceb0fe-7725-46ef-8775-34074670694d",
     "showTitle": false,
     "tableResultSettingsMap": {},
     "title": ""
    }
   },
   "outputs": [
    {
     "output_type": "stream",
     "name": "stdout",
     "output_type": "stream",
     "text": [
      "Starting hyperparameter optimization experiment: /Users/dimitar_pg13@hotmail.com/wine-quality-optimization\nThis will run 15 trials to find optimal hyperparameters...\n\r  0%|          | 0/15 [00:00<?, ?trial/s, best loss=?]"
     ]
    },
    {
     "output_type": "stream",
     "name": "stderr",
     "output_type": "stream",
     "text": [
      "2025-08-03 09:58:31.986221: E external/local_xla/xla/stream_executor/cuda/cuda_platform.cc:51] failed call to cuInit: INTERNAL: CUDA error: Failed call to cuInit: UNKNOWN ERROR (303)\n\uD83D\uDD17 View Logged Model at: https://dbc-571dd45b-74bb.cloud.databricks.com/ml/experiments/3888118246209052/models/m-3a605e5b73b845f680e3c26afd21f5fd?o=3183495431557320\n"
     ]
    },
    {
     "output_type": "stream",
     "name": "stdout",
     "output_type": "stream",
     "text": [
      "\r  7%|▋         | 1/15 [00:39<09:15, 39.70s/trial, best loss: 0.9438973665237427]"
     ]
    },
    {
     "output_type": "stream",
     "name": "stderr",
     "output_type": "stream",
     "text": [
      "\uD83D\uDD17 View Logged Model at: https://dbc-571dd45b-74bb.cloud.databricks.com/ml/experiments/3888118246209052/models/m-b347c1e58dbb4c1bbbe727bbfda58a7b?o=3183495431557320\n"
     ]
    },
    {
     "output_type": "stream",
     "name": "stdout",
     "output_type": "stream",
     "text": [
      "\r 13%|█▎        | 2/15 [01:06<07:00, 32.37s/trial, best loss: 0.9438973665237427]"
     ]
    },
    {
     "output_type": "stream",
     "name": "stderr",
     "output_type": "stream",
     "text": [
      "\uD83D\uDD17 View Logged Model at: https://dbc-571dd45b-74bb.cloud.databricks.com/ml/experiments/3888118246209052/models/m-31cba6814d374759a853673e498bd030?o=3183495431557320\n"
     ]
    },
    {
     "output_type": "stream",
     "name": "stdout",
     "output_type": "stream",
     "text": [
      "\r 20%|██        | 3/15 [01:29<05:36, 28.03s/trial, best loss: 0.9438973665237427]"
     ]
    },
    {
     "output_type": "stream",
     "name": "stderr",
     "output_type": "stream",
     "text": [
      "\uD83D\uDD17 View Logged Model at: https://dbc-571dd45b-74bb.cloud.databricks.com/ml/experiments/3888118246209052/models/m-b5ddf90da2f643bcae693c424f89dffa?o=3183495431557320\n"
     ]
    },
    {
     "output_type": "stream",
     "name": "stdout",
     "output_type": "stream",
     "text": [
      "\r 27%|██▋       | 4/15 [01:50<04:37, 25.20s/trial, best loss: 0.7338908314704895]"
     ]
    },
    {
     "output_type": "stream",
     "name": "stderr",
     "output_type": "stream",
     "text": [
      "\uD83D\uDD17 View Logged Model at: https://dbc-571dd45b-74bb.cloud.databricks.com/ml/experiments/3888118246209052/models/m-37b2d79c1d3141b1900654faccc07678?o=3183495431557320\n"
     ]
    },
    {
     "output_type": "stream",
     "name": "stdout",
     "output_type": "stream",
     "text": [
      "\r 33%|███▎      | 5/15 [02:10<03:53, 23.32s/trial, best loss: 0.7338908314704895]"
     ]
    },
    {
     "output_type": "stream",
     "name": "stderr",
     "output_type": "stream",
     "text": [
      "\uD83D\uDD17 View Logged Model at: https://dbc-571dd45b-74bb.cloud.databricks.com/ml/experiments/3888118246209052/models/m-51a7aba485654f22a98187eb7062f249?o=3183495431557320\n"
     ]
    },
    {
     "output_type": "stream",
     "name": "stdout",
     "output_type": "stream",
     "text": [
      "\r 40%|████      | 6/15 [02:29<03:15, 21.76s/trial, best loss: 0.7060117125511169]"
     ]
    },
    {
     "output_type": "stream",
     "name": "stderr",
     "output_type": "stream",
     "text": [
      "\uD83D\uDD17 View Logged Model at: https://dbc-571dd45b-74bb.cloud.databricks.com/ml/experiments/3888118246209052/models/m-a73ee888c0e24239b9a2d8617e447255?o=3183495431557320\n"
     ]
    },
    {
     "output_type": "stream",
     "name": "stdout",
     "output_type": "stream",
     "text": [
      "\r 47%|████▋     | 7/15 [02:43<02:34, 19.33s/trial, best loss: 0.6928889155387878]"
     ]
    },
    {
     "output_type": "stream",
     "name": "stderr",
     "output_type": "stream",
     "text": [
      "\uD83D\uDD17 View Logged Model at: https://dbc-571dd45b-74bb.cloud.databricks.com/ml/experiments/3888118246209052/models/m-b5f019b010d64698aa98fa664631c60b?o=3183495431557320\n"
     ]
    },
    {
     "output_type": "stream",
     "name": "stdout",
     "output_type": "stream",
     "text": [
      "\r 53%|█████▎    | 8/15 [03:01<02:11, 18.80s/trial, best loss: 0.6928889155387878]"
     ]
    },
    {
     "output_type": "stream",
     "name": "stderr",
     "output_type": "stream",
     "text": [
      "\uD83D\uDD17 View Logged Model at: https://dbc-571dd45b-74bb.cloud.databricks.com/ml/experiments/3888118246209052/models/m-15de2d9c97df49c692849c53771745ba?o=3183495431557320\n"
     ]
    },
    {
     "output_type": "stream",
     "name": "stdout",
     "output_type": "stream",
     "text": [
      "\r 60%|██████    | 9/15 [03:17<01:48, 18.03s/trial, best loss: 0.6928889155387878]"
     ]
    },
    {
     "output_type": "stream",
     "name": "stderr",
     "output_type": "stream",
     "text": [
      "\uD83D\uDD17 View Logged Model at: https://dbc-571dd45b-74bb.cloud.databricks.com/ml/experiments/3888118246209052/models/m-b2393815720e4319a2344385e0c522d6?o=3183495431557320\n"
     ]
    },
    {
     "output_type": "stream",
     "name": "stdout",
     "output_type": "stream",
     "text": [
      "\r 67%|██████▋   | 10/15 [03:34<01:28, 17.68s/trial, best loss: 0.6928889155387878]"
     ]
    },
    {
     "output_type": "stream",
     "name": "stderr",
     "output_type": "stream",
     "text": [
      "\uD83D\uDD17 View Logged Model at: https://dbc-571dd45b-74bb.cloud.databricks.com/ml/experiments/3888118246209052/models/m-8db0b383a134405a91fd48af5fb24dd5?o=3183495431557320\n"
     ]
    },
    {
     "output_type": "stream",
     "name": "stdout",
     "output_type": "stream",
     "text": [
      "\r 73%|███████▎  | 11/15 [03:51<01:09, 17.49s/trial, best loss: 0.6928889155387878]"
     ]
    },
    {
     "output_type": "stream",
     "name": "stderr",
     "output_type": "stream",
     "text": [
      "\uD83D\uDD17 View Logged Model at: https://dbc-571dd45b-74bb.cloud.databricks.com/ml/experiments/3888118246209052/models/m-fba01609da99407a9f24cd434081280c?o=3183495431557320\n"
     ]
    },
    {
     "output_type": "stream",
     "name": "stdout",
     "output_type": "stream",
     "text": [
      "\r 80%|████████  | 12/15 [04:08<00:52, 17.43s/trial, best loss: 0.6928889155387878]"
     ]
    },
    {
     "output_type": "stream",
     "name": "stderr",
     "output_type": "stream",
     "text": [
      "\uD83D\uDD17 View Logged Model at: https://dbc-571dd45b-74bb.cloud.databricks.com/ml/experiments/3888118246209052/models/m-6246a7cda2ea4076bd42f8aa1af91d5e?o=3183495431557320\n"
     ]
    },
    {
     "output_type": "stream",
     "name": "stdout",
     "output_type": "stream",
     "text": [
      "\r 87%|████████▋ | 13/15 [04:24<00:33, 16.95s/trial, best loss: 0.6928889155387878]"
     ]
    },
    {
     "output_type": "stream",
     "name": "stderr",
     "output_type": "stream",
     "text": [
      "\uD83D\uDD17 View Logged Model at: https://dbc-571dd45b-74bb.cloud.databricks.com/ml/experiments/3888118246209052/models/m-de8b69c00c7b469dbd4df8ece3fb6641?o=3183495431557320\n"
     ]
    },
    {
     "output_type": "stream",
     "name": "stdout",
     "output_type": "stream",
     "text": [
      "\r 93%|█████████▎| 14/15 [04:43<00:17, 17.38s/trial, best loss: 0.6928889155387878]"
     ]
    },
    {
     "output_type": "stream",
     "name": "stderr",
     "output_type": "stream",
     "text": [
      "\uD83D\uDD17 View Logged Model at: https://dbc-571dd45b-74bb.cloud.databricks.com/ml/experiments/3888118246209052/models/m-adbb71455b9e47899fee0688da51ef56?o=3183495431557320\n"
     ]
    },
    {
     "output_type": "stream",
     "name": "stdout",
     "output_type": "stream",
     "text": [
      "\r100%|██████████| 15/15 [05:00<00:00, 17.26s/trial, best loss: 0.6928889155387878]\r100%|██████████| 15/15 [05:00<00:00, 20.01s/trial, best loss: 0.6928889155387878]\n"
     ]
    }
   ],
   "source": [
    "# Create or set experiment\n",
    "experiment_name = \"/Users/dimitar_pg13@hotmail.com/wine-quality-optimization\"\n",
    "mlflow.set_experiment(experiment_name)\n",
    "\n",
    "print(f\"Starting hyperparameter optimization experiment: {experiment_name}\")\n",
    "print(\"This will run 15 trials to find optimal hyperparameters...\")\n",
    "\n",
    "with mlflow.start_run(run_name=\"hyperparameter-sweep\"):\n",
    "    # Log experiment metadata\n",
    "    mlflow.log_params(\n",
    "        {\n",
    "            \"optimization_method\": \"Tree-structured Parzen Estimator (TPE)\",\n",
    "            \"max_evaluations\": 15,\n",
    "            \"objective_metric\": \"validation_rmse\",\n",
    "            \"dataset\": \"wine-quality\",\n",
    "            \"model_type\": \"neural_network\",\n",
    "        }\n",
    "    )\n",
    "\n",
    "    # Run optimization\n",
    "    trials = Trials()\n",
    "    best_params = fmin(\n",
    "        fn=objective,\n",
    "        space=search_space,\n",
    "        algo=tpe.suggest,\n",
    "        max_evals=15,\n",
    "        trials=trials,\n",
    "        verbose=True,\n",
    "    )\n",
    "\n",
    "    # Find and log best results\n",
    "    best_trial = min(trials.results, key=lambda x: x[\"loss\"])\n",
    "    best_rmse = best_trial[\"loss\"]\n",
    "\n",
    "    # Log optimization results\n",
    "    mlflow.log_params(\n",
    "        {\n",
    "            \"best_learning_rate\": best_params[\"learning_rate\"],\n",
    "            \"best_momentum\": best_params[\"momentum\"],\n",
    "        }\n",
    "    )\n",
    "    mlflow.log_metrics(\n",
    "        {\n",
    "            \"best_val_rmse\": best_rmse,\n",
    "            \"total_trials\": len(trials.trials),\n",
    "            \"optimization_completed\": 1,\n",
    "        }\n",
    "    )"
   ]
  },
  {
   "cell_type": "markdown",
   "metadata": {
    "application/vnd.databricks.v1+cell": {
     "cellMetadata": {
      "byteLimit": 2048000,
      "rowLimit": 10000
     },
     "inputWidgets": {},
     "nuid": "bbbc7a70-2b6b-46bf-a1b8-858b5781f210",
     "showTitle": false,
     "tableResultSettingsMap": {},
     "title": ""
    }
   },
   "source": []
  },
  {
   "cell_type": "markdown",
   "metadata": {
    "application/vnd.databricks.v1+cell": {
     "cellMetadata": {
      "byteLimit": 2048000,
      "rowLimit": 10000
     },
     "inputWidgets": {},
     "nuid": "403927d8-06eb-4570-8d15-4c7c74934f3c",
     "showTitle": false,
     "tableResultSettingsMap": {},
     "title": ""
    }
   },
   "source": [
    "endpoint: https://dbc-571dd45b-74bb.cloud.databricks.com/serving-endpoints/wine-quality-predictor/invocations\n",
    "\n",
    "export DATABRICKS_TOKEN:\n",
    "\n",
    "```bash\n",
    "export DATABRICKS_TOKEN=\"dapixxxxx\"\n",
    "```\n",
    "\n",
    "Test with a sample wine\n",
    "```bash\n",
    "curl -u token:$DATABRICKS_TOKEN \\\n",
    "  -X POST https://dbc-571dd45b-74bb.cloud.databricks.com/serving-endpoints/wine-quality-predictor/invocations \\\n",
    "  -H \"Content-Type: application/json\" \\\n",
    "  -d '{\n",
    "    \"dataframe_split\": {\n",
    "      \"columns\": [\n",
    "        \"fixed acidity\", \"volatile acidity\", \"citric acid\", \"residual sugar\",\n",
    "        \"chlorides\", \"free sulfur dioxide\", \"total sulfur dioxide\", \"density\",\n",
    "        \"pH\", \"sulphates\", \"alcohol\"\n",
    "      ],\n",
    "      \"data\": [[7.0, 0.27, 0.36, 20.7, 0.045, 45, 170, 1.001, 3.0, 0.45, 8.8]]\n",
    "    }\n",
    "  }'\n",
    "  ```"
   ]
  },
  {
   "cell_type": "code",
   "execution_count": 0,
   "metadata": {
    "application/vnd.databricks.v1+cell": {
     "cellMetadata": {
      "byteLimit": 2048000,
      "rowLimit": 10000
     },
     "inputWidgets": {},
     "nuid": "c6143a9c-358e-4e6d-9f93-a752a1a78e46",
     "showTitle": false,
     "tableResultSettingsMap": {},
     "title": ""
    }
   },
   "outputs": [],
   "source": []
  }
 ],
 "metadata": {
  "application/vnd.databricks.v1+notebook": {
   "computePreferences": {
    "hardware": {
     "accelerator": null,
     "gpuPoolId": null,
     "memory": null
    }
   },
   "dashboards": [],
   "environmentMetadata": {
    "base_environment": "",
    "environment_version": "2"
   },
   "inputWidgetPreferences": null,
   "language": "python",
   "notebookMetadata": {
    "pythonIndentUnit": 4
   },
   "notebookName": "Hyperparameter_Tuning_and_Deployment_Quickstart",
   "widgets": {}
  },
  "language_info": {
   "name": "python"
  }
 },
 "nbformat": 4,
 "nbformat_minor": 0
}